{
  "cells": [
    {
      "cell_type": "markdown",
      "metadata": {},
      "source": [
        "PyFluent Simulation Hackathon\n",
        "---\n",
        "The purpose of the following notebook is to provide a high level introduction to the workings of a fluid dynamics simulation. It will guide you through a step-by-step process of the preparation, setup, running and post-processing of a simulation. Primarily this tutorial is deisgned to promote experimentation and iteration. \n",
        "\n",
        "In this case we will be simulating an internal flow through different venturis.\n",
        "\n",
        "**Note:** Be sure to restart the kernel between every time you run the script to avoid bugs."
      ]
    },
    {
      "cell_type": "code",
      "execution_count": null,
      "metadata": {
        "collapsed": false
      },
      "outputs": [],
      "source": [
        "import os , zipfile\n",
        "\n",
        "home_directory = os.path.expanduser(\"~\")\n",
        "zip_file_path = f'{home_directory}/hackathon.zip'\n",
        "venturi_dir = f'{home_directory}/venturis/'\n",
        "\n",
        "os.makedirs(venturi_dir, exist_ok=True)\n",
        "with zipfile.ZipFile(zip_file_path, 'r') as zip_ref:\n",
        "    for file in zip_ref.namelist():\n",
        "        if file.startswith('hackathon/venturi/') and not file.endswith('/'):\n",
        "            with zip_ref.open(file) as source, open(os.path.join(venturi_dir, os.path.basename(file)), 'wb') as target:\n",
        "                    target.write(source.read())\n",
        "        elif file.startswith('hackathon/') and file.endswith('.py'):\n",
        "            with zip_ref.open(file) as source, open(os.path.join(home_directory+'/', os.path.basename(file)), 'wb') as target:\n",
        "                    target.write(source.read())\n",
        "               \n",
        "from SimpleSim import SimpleSim\n",
        "import FileManager as fm\n",
        "\n",
        "try:\n",
        "    fm.delete_file('hackathon.zip')\n",
        "except:\n",
        "    pass"
      ]
    },
    {
      "cell_type": "markdown",
      "metadata": {},
      "source": [
        "The follow block of code defines key variables which shape the nature of the simulation: \n",
        "    \n",
        "- **geometry_file:** Select the name of geometry file that will be used in the simulation, in this case you can choose between different venturis by replacing the number between *venturi* and *.pmdb* with *0, 2, 4, 6, 8* or *10*.\n",
        "\n",
        "- **simulation_model:** Select the model type. Choose between *laminar, k-epsilon, k-omega, inviscid*\n",
        "\n",
        "- **inlet_velocity:** Velocity in m/s. Choose any number.\n",
        "\n",
        "- **fluid_material:** Material of fluid being simulated. Try *air, water-liquid, mercury, hydrogen* or *engine-oil*\n",
        "- **contour_field:** A contour plot is essentially like a heat/color map, the contour field is the value that is being plotted. The options are *velocity-magnitude, pressure* and *density*.\n",
        "\n",
        "- **xyplot_field:** Y-axis parameter, same options as for contour_field. "
      ]
    },
    {
      "cell_type": "code",
      "execution_count": null,
      "metadata": {
        "collapsed": false
      },
      "outputs": [],
      "source": [
        "geometry_file = 'venturi6.pmdb' \n",
        "simulation_model = 'inviscid' \n",
        "inlet_velocity = 5\n",
        "fluid_material = 'meury'\n",
        "contour_field = 'velocity-magnitude' \n",
        "xyplot_field = 'velocity-magnitude' \n",
        "\n",
        "#create a PyFluent \"instance\" -- equivalent of opening a new window of an app \n",
        "sim = SimpleSim(geometry_file , simulation_model , inlet_velocity , fluid_material)"
      ]
    },
    {
      "cell_type": "code",
      "execution_count": null,
      "metadata": {
        "collapsed": false
      },
      "outputs": [],
      "source": [
        "#copy the geometry file into the PyFluent instance so that it can be accessed \n",
        "file_path = fm.get_file_path(geometry_file)\n",
        "fm.copy_file(file_path , sim.instance)"
      ]
    },
    {
      "cell_type": "markdown",
      "metadata": {},
      "source": [
        "Meshing\n",
        "--"
      ]
    },
    {
      "cell_type": "code",
      "execution_count": null,
      "metadata": {
        "collapsed": false
      },
      "outputs": [],
      "source": [
        "#import the geometry into the Fluent meshing app and generate a standard mesh\n",
        "sim.import_geometry()\n",
        "sim.generate_mesh()\n",
        "sim.show_mesh()"
      ]
    },
    {
      "cell_type": "code",
      "execution_count": null,
      "metadata": {
        "collapsed": false
      },
      "outputs": [],
      "source": [
        "#now that the mesh has been generated, switch from the, meshing app to the solving app\n",
        "sim.solver = sim.meshing.switch_to_solver()"
      ]
    },
    {
      "cell_type": "markdown",
      "metadata": {},
      "source": [
        "Solver\n",
        "--"
      ]
    },
    {
      "cell_type": "code",
      "execution_count": null,
      "metadata": {
        "collapsed": false
      },
      "outputs": [],
      "source": [
        "#initialize the simulation by defining the physics parameters -- including the model and the inlet velocity which were defined at the beginning of the notebook. Then begin the calculation. \n",
        "sim.setup_sim()\n",
        "sim.simulate()"
      ]
    },
    {
      "cell_type": "markdown",
      "metadata": {},
      "source": [
        "Post-processing\n",
        "--"
      ]
    },
    {
      "cell_type": "code",
      "execution_count": null,
      "metadata": {
        "collapsed": false
      },
      "outputs": [],
      "source": [
        "#In this block we setup and plot our contour plot. \n",
        "plane_surface_name = 'symmetry-plane'\n",
        "#check if surface already exists to prevent error due to overwriting \n",
        "try: \n",
        "    sim.solver.tui.surface.delete_surface(plane_surface_name)\n",
        "except:\n",
        "    pass\n",
        "#create a plane surface, parallel to the xy-plane, with a z value of 125mm (middle of geometry) \n",
        "sim.solver.tui.surface.plane_surface(plane_surface_name,\"xy-plane\",\"125\")\n",
        "\n",
        "#combine the parameters and data to plot \n",
        "sim.contours(contour_field , plane_surface_name)"
      ]
    },
    {
      "cell_type": "code",
      "execution_count": null,
      "metadata": {
        "collapsed": false
      },
      "outputs": [],
      "source": [
        "#In this block we setup and plot our contour plot.\n",
        "line_surface_name = 'centerline'\n",
        "#check if surface already exists to prevent error due to overwriting\n",
        "try: \n",
        "    sim.solver.tui.surface.delete_surface(line_surface_name)\n",
        "except:\n",
        "    pass\n",
        "#create a line surface, which conects the point [-75,0,125] and [75,0,125] (also center of geometry). This essentially serves as the x-axis to our plot \n",
        "sim.solver.tui.surface.line_surface(line_surface_name,\"-75\",\"0\",\"125\",\"75\",\"0\",\"125\")\n",
        "\n",
        "#combine the parameters and data to plot \n",
        "sim.xyplot(xyplot_field , line_surface_name)\n",
        ""
      ]
    },
    {
      "cell_type": "code",
      "execution_count": null,
      "metadata": {
        "collapsed": false
      },
      "outputs": [],
      "source": [
        "#from ansys.fluent.visualization.pyvista import  Graphics\n",
        "#graphics_session = Graphics(sim.solver)\n",
        "#pathlines1 = graphics_session.Pathlines[\"pathlines-1\"]\n",
        "#pathlines1.field = \"velocity-magnitude\"\n",
        "#pathlines1.surfaces_list = ['inlet']\n",
        "#pathlines1.display()"
      ]
    },
    {
      "cell_type": "code",
      "execution_count": null,
      "metadata": {
        "collapsed": false
      },
      "outputs": [],
      "source": [
        "#This line is put here for convenience, it deletes the instance and all of its data so the Workspace is not cluttered. Will not work if the kernal was restarted. \n",
        "\n",
        "fm.delete_dir(sim.instance)"
      ]
    },
    {
      "cell_type": "code",
      "execution_count": null,
      "metadata": {
        "collapsed": false
      },
      "outputs": [],
      "source": [
        ""
      ]
    }
  ],
  "metadata": {},
  "nbformat": 4,
  "nbformat_minor": 0
}